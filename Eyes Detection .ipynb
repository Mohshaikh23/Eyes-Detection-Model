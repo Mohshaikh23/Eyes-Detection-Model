{
 "cells": [
  {
   "cell_type": "code",
   "execution_count": 1,
   "id": "646b7794",
   "metadata": {},
   "outputs": [],
   "source": [
    "import cv2\n",
    "face_cascade = cv2.CascadeClassifier('haarcascade_eye.xml')\n",
    "\n",
    "path= r'E:\\END TO END ML PROJECT\\Eye Detection\\Images\\2.jpg'\n",
    "\n",
    "color_image = cv2.imread(path)\n",
    "\n",
    "gray_image = cv2.cvtColor(color_image, cv2.COLOR_BGR2GRAY)\n",
    "\n",
    "faces = face_cascade.detectMultiScale(gray_image, 1.3, 8)\n",
    "\n",
    "for (x, y, w, h) in faces:\n",
    "    cv2.rectangle(color_image, (x,y), (x+w,y+h), (0,0,255), 4)\n",
    "\n",
    "cv2.imshow('image', color_image)\n",
    "\n",
    "cv2.waitKey()\n",
    "\n",
    "cv2.destroyAllWindows()"
   ]
  },
  {
   "cell_type": "code",
   "execution_count": null,
   "id": "bdba1510",
   "metadata": {},
   "outputs": [],
   "source": []
  }
 ],
 "metadata": {
  "kernelspec": {
   "display_name": "Python 3 (ipykernel)",
   "language": "python",
   "name": "python3"
  },
  "language_info": {
   "codemirror_mode": {
    "name": "ipython",
    "version": 3
   },
   "file_extension": ".py",
   "mimetype": "text/x-python",
   "name": "python",
   "nbconvert_exporter": "python",
   "pygments_lexer": "ipython3",
   "version": "3.9.16"
  }
 },
 "nbformat": 4,
 "nbformat_minor": 5
}
